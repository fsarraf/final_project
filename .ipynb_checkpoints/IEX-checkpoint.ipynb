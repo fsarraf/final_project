{
 "nbformat": 4,
 "nbformat_minor": 2,
 "metadata": {
  "language_info": {
   "name": "python",
   "codemirror_mode": {
    "name": "ipython",
    "version": 3
   },
   "version": "3.7.4"
  },
  "orig_nbformat": 2,
  "file_extension": ".py",
  "mimetype": "text/x-python",
  "name": "python",
  "npconvert_exporter": "python",
  "pygments_lexer": "ipython3",
  "version": 3
 },
 "cells": [
  {
   "cell_type": "code",
   "execution_count": 18,
   "metadata": {},
   "outputs": [],
   "source": [
    "import pandas as pd \n",
    "import numpy as np \n",
    "import matplotlib.pyplot as plt \n",
    "import iexfinance\n",
    "from iexfinance.refdata import get_symbols, \n",
    "from iexfinance.stocks import Stock, \n",
    "from iexfinance.altdata import get_social_sentiment\n",
    "\n",
    "import os\n"
   ]
  },
  {
   "cell_type": "code",
   "execution_count": 6,
   "metadata": {},
   "outputs": [
    {
     "name": "stdout",
     "output_type": "stream",
     "text": "Collecting iexfinance\n  Using cached https://files.pythonhosted.org/packages/1c/5a/ea97aa0b1581352fe1019105d69dddec25a9f0c331b7c1136ee76ae50589/iexfinance-0.4.3-py3-none-any.whl\nRequirement already satisfied: requests in /Users/fadisarraf/opt/anaconda3/lib/python3.7/site-packages (from iexfinance) (2.22.0)\nRequirement already satisfied: pandas in /Users/fadisarraf/opt/anaconda3/lib/python3.7/site-packages (from iexfinance) (0.25.1)\nRequirement already satisfied: chardet<3.1.0,>=3.0.2 in /Users/fadisarraf/opt/anaconda3/lib/python3.7/site-packages (from requests->iexfinance) (3.0.4)\nRequirement already satisfied: urllib3!=1.25.0,!=1.25.1,<1.26,>=1.21.1 in /Users/fadisarraf/opt/anaconda3/lib/python3.7/site-packages (from requests->iexfinance) (1.24.2)\nRequirement already satisfied: certifi>=2017.4.17 in /Users/fadisarraf/opt/anaconda3/lib/python3.7/site-packages (from requests->iexfinance) (2019.9.11)\nRequirement already satisfied: idna<2.9,>=2.5 in /Users/fadisarraf/opt/anaconda3/lib/python3.7/site-packages (from requests->iexfinance) (2.8)\nRequirement already satisfied: python-dateutil>=2.6.1 in /Users/fadisarraf/opt/anaconda3/lib/python3.7/site-packages (from pandas->iexfinance) (2.8.0)\nRequirement already satisfied: numpy>=1.13.3 in /Users/fadisarraf/opt/anaconda3/lib/python3.7/site-packages (from pandas->iexfinance) (1.17.2)\nRequirement already satisfied: pytz>=2017.2 in /Users/fadisarraf/opt/anaconda3/lib/python3.7/site-packages (from pandas->iexfinance) (2019.3)\nRequirement already satisfied: six>=1.5 in /Users/fadisarraf/opt/anaconda3/lib/python3.7/site-packages (from python-dateutil>=2.6.1->pandas->iexfinance) (1.12.0)\nInstalling collected packages: iexfinance\nSuccessfully installed iexfinance-0.4.3\n"
    }
   ],
   "source": [
    "! pip3 install iexfinance"
   ]
  },
  {
   "cell_type": "code",
   "execution_count": 28,
   "metadata": {},
   "outputs": [],
   "source": [
    "token = 'pk_b5ee16430764408b9821c3d6af15d4b3'\n",
    "\n",
    "os.environ['IEX_TOKEN'] = 'pk_b5ee16430764408b9821c3d6af15d4b3'"
   ]
  },
  {
   "cell_type": "code",
   "execution_count": 11,
   "metadata": {},
   "outputs": [
    {
     "data": {
      "text/html": "<div>\n<style scoped>\n    .dataframe tbody tr th:only-of-type {\n        vertical-align: middle;\n    }\n\n    .dataframe tbody tr th {\n        vertical-align: top;\n    }\n\n    .dataframe thead th {\n        text-align: right;\n    }\n</style>\n<table border=\"1\" class=\"dataframe\">\n  <thead>\n    <tr style=\"text-align: right;\">\n      <th></th>\n      <th>symbol</th>\n      <th>exchange</th>\n      <th>name</th>\n      <th>date</th>\n      <th>type</th>\n      <th>iexId</th>\n      <th>region</th>\n      <th>currency</th>\n      <th>isEnabled</th>\n    </tr>\n  </thead>\n  <tbody>\n    <tr>\n      <td>0</td>\n      <td>A</td>\n      <td>NYS</td>\n      <td>Agilent Technologies Inc.</td>\n      <td>2020-01-06</td>\n      <td>cs</td>\n      <td>IEX_46574843354B2D52</td>\n      <td>US</td>\n      <td>USD</td>\n      <td>True</td>\n    </tr>\n    <tr>\n      <td>1</td>\n      <td>AA</td>\n      <td>NYS</td>\n      <td>Alcoa Corp.</td>\n      <td>2020-01-06</td>\n      <td>cs</td>\n      <td>IEX_4238333734532D52</td>\n      <td>US</td>\n      <td>USD</td>\n      <td>True</td>\n    </tr>\n    <tr>\n      <td>2</td>\n      <td>AAAU</td>\n      <td>PSE</td>\n      <td>Perth Mint Physical Gold ETF</td>\n      <td>2020-01-06</td>\n      <td>et</td>\n      <td>IEX_474B433136332D52</td>\n      <td>US</td>\n      <td>USD</td>\n      <td>True</td>\n    </tr>\n    <tr>\n      <td>3</td>\n      <td>AACG</td>\n      <td>NAS</td>\n      <td>ATA Creativity Global Sponsored ADR</td>\n      <td>2020-01-06</td>\n      <td>ad</td>\n      <td>IEX_44595A4C53392D52</td>\n      <td>US</td>\n      <td>USD</td>\n      <td>True</td>\n    </tr>\n    <tr>\n      <td>4</td>\n      <td>AADR</td>\n      <td>PSE</td>\n      <td>AdvisorShares Dorsey Wright ADR ETF</td>\n      <td>2020-01-06</td>\n      <td>et</td>\n      <td>IEX_5253355435362D52</td>\n      <td>US</td>\n      <td>USD</td>\n      <td>True</td>\n    </tr>\n    <tr>\n      <td>...</td>\n      <td>...</td>\n      <td>...</td>\n      <td>...</td>\n      <td>...</td>\n      <td>...</td>\n      <td>...</td>\n      <td>...</td>\n      <td>...</td>\n      <td>...</td>\n    </tr>\n    <tr>\n      <td>8854</td>\n      <td>ZUO</td>\n      <td>NYS</td>\n      <td>Zuora Inc. Class A</td>\n      <td>2020-01-06</td>\n      <td>cs</td>\n      <td>IEX_4D474631525A2D52</td>\n      <td>US</td>\n      <td>USD</td>\n      <td>True</td>\n    </tr>\n    <tr>\n      <td>8855</td>\n      <td>ZVO</td>\n      <td>NAS</td>\n      <td>Zovio Inc.</td>\n      <td>2020-01-06</td>\n      <td>cs</td>\n      <td>IEX_514A435352362D52</td>\n      <td>US</td>\n      <td>USD</td>\n      <td>True</td>\n    </tr>\n    <tr>\n      <td>8856</td>\n      <td>ZYME</td>\n      <td>NYS</td>\n      <td>Zymeworks Inc.</td>\n      <td>2020-01-06</td>\n      <td>cs</td>\n      <td>IEX_5253315838322D52</td>\n      <td>US</td>\n      <td>USD</td>\n      <td>True</td>\n    </tr>\n    <tr>\n      <td>8857</td>\n      <td>ZYNE</td>\n      <td>NAS</td>\n      <td>Zynerba Pharmaceuticals Inc</td>\n      <td>2020-01-06</td>\n      <td>cs</td>\n      <td>IEX_4E3154424A382D52</td>\n      <td>US</td>\n      <td>USD</td>\n      <td>True</td>\n    </tr>\n    <tr>\n      <td>8858</td>\n      <td>ZYXI</td>\n      <td>NAS</td>\n      <td>Zynex Inc.</td>\n      <td>2020-01-06</td>\n      <td>cs</td>\n      <td>IEX_4E464C4C4A462D52</td>\n      <td>US</td>\n      <td>USD</td>\n      <td>True</td>\n    </tr>\n  </tbody>\n</table>\n<p>8859 rows × 9 columns</p>\n</div>",
      "text/plain": "     symbol exchange                                 name        date type  \\\n0         A      NYS            Agilent Technologies Inc.  2020-01-06   cs   \n1        AA      NYS                          Alcoa Corp.  2020-01-06   cs   \n2      AAAU      PSE         Perth Mint Physical Gold ETF  2020-01-06   et   \n3      AACG      NAS  ATA Creativity Global Sponsored ADR  2020-01-06   ad   \n4      AADR      PSE  AdvisorShares Dorsey Wright ADR ETF  2020-01-06   et   \n...     ...      ...                                  ...         ...  ...   \n8854    ZUO      NYS                   Zuora Inc. Class A  2020-01-06   cs   \n8855    ZVO      NAS                           Zovio Inc.  2020-01-06   cs   \n8856   ZYME      NYS                       Zymeworks Inc.  2020-01-06   cs   \n8857   ZYNE      NAS          Zynerba Pharmaceuticals Inc  2020-01-06   cs   \n8858   ZYXI      NAS                           Zynex Inc.  2020-01-06   cs   \n\n                     iexId region currency  isEnabled  \n0     IEX_46574843354B2D52     US      USD       True  \n1     IEX_4238333734532D52     US      USD       True  \n2     IEX_474B433136332D52     US      USD       True  \n3     IEX_44595A4C53392D52     US      USD       True  \n4     IEX_5253355435362D52     US      USD       True  \n...                    ...    ...      ...        ...  \n8854  IEX_4D474631525A2D52     US      USD       True  \n8855  IEX_514A435352362D52     US      USD       True  \n8856  IEX_5253315838322D52     US      USD       True  \n8857  IEX_4E3154424A382D52     US      USD       True  \n8858  IEX_4E464C4C4A462D52     US      USD       True  \n\n[8859 rows x 9 columns]"
     },
     "execution_count": 11,
     "metadata": {},
     "output_type": "execute_result"
    }
   ],
   "source": [
    "get_symbols(output_format='pandas', token=token)"
   ]
  },
  {
   "cell_type": "code",
   "execution_count": 14,
   "metadata": {},
   "outputs": [
    {
     "data": {
      "text/plain": "{'symbol': 'WBA',\n 'companyName': 'Walgreens Boots Alliance, Inc.',\n 'primaryExchange': 'NASDAQ',\n 'calculationPrice': 'tops',\n 'open': None,\n 'openTime': None,\n 'close': None,\n 'closeTime': None,\n 'high': None,\n 'low': None,\n 'latestPrice': 58.6,\n 'latestSource': 'IEX real time price',\n 'latestTime': '10:34:26 AM',\n 'latestUpdate': 1578324866882,\n 'latestVolume': 1568580,\n 'iexRealtimePrice': 58.6,\n 'iexRealtimeSize': 3,\n 'iexLastUpdated': 1578324866882,\n 'delayedPrice': None,\n 'delayedPriceTime': None,\n 'extendedPrice': None,\n 'extendedChange': None,\n 'extendedChangePercent': None,\n 'extendedPriceTime': None,\n 'previousClose': 59.08,\n 'previousVolume': 4895885,\n 'change': -0.48,\n 'changePercent': -0.00812,\n 'volume': 1568580,\n 'iexMarketPercent': 0.028327531907840212,\n 'iexVolume': 44434,\n 'avgTotalVolume': 4357280,\n 'iexBidPrice': 0,\n 'iexBidSize': 0,\n 'iexAskPrice': 0,\n 'iexAskSize': 0,\n 'marketCap': 52036038200,\n 'peRatio': 13.59,\n 'week52High': 74.94,\n 'week52Low': 49.03,\n 'ytdChange': -0.00812,\n 'lastTradeTime': 1578324866882,\n 'isUSMarketOpen': True}"
     },
     "execution_count": 14,
     "metadata": {},
     "output_type": "execute_result"
    }
   ],
   "source": [
    "a = Stock(\"WBA\", token=token)\n",
    "a.get_quote()"
   ]
  },
  {
   "cell_type": "code",
   "execution_count": 33,
   "metadata": {},
   "outputs": [
    {
     "name": "stderr",
     "output_type": "stream",
     "text": "/Users/fadisarraf/opt/anaconda3/lib/python3.7/site-packages/iexfinance/altdata/__init__.py:48: UserWarning: UNSTABLE ENDPOINT: Not yet fully implemented by the provider.\n  warnings.warn(\"UNSTABLE ENDPOINT: Not yet fully implemented by the \"\n"
    }
   ],
   "source": [
    "b = get_social_sentiment(\"WBA\")"
   ]
  },
  {
   "cell_type": "code",
   "execution_count": 34,
   "metadata": {},
   "outputs": [
    {
     "data": {
      "text/plain": "{'sentiment': -0.35104, 'totalScores': 5, 'positive': 0.4, 'negative': 0.6}"
     },
     "execution_count": 34,
     "metadata": {},
     "output_type": "execute_result"
    }
   ],
   "source": [
    "b"
   ]
  },
  {
   "cell_type": "markdown",
   "execution_count": null,
   "metadata": {},
   "outputs": [],
   "source": [
    "os.getenv('IEX_TOKEN')"
   ]
  },
  {
   "cell_type": "code",
   "execution_count": 29,
   "metadata": {},
   "outputs": [],
   "source": [
    "a = os.getenv('IEX_TOKEN')"
   ]
  },
  {
   "cell_type": "code",
   "execution_count": 30,
   "metadata": {},
   "outputs": [
    {
     "data": {
      "text/plain": "'pk_b5ee16430764408b9821c3d6af15d4b3'"
     },
     "execution_count": 30,
     "metadata": {},
     "output_type": "execute_result"
    }
   ],
   "source": [
    "a"
   ]
  },
  {
   "cell_type": "code",
   "execution_count": null,
   "metadata": {},
   "outputs": [],
   "source": []
  }
 ]
}